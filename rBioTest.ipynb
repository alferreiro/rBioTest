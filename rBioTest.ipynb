{
  "nbformat": 4,
  "nbformat_minor": 0,
  "metadata": {
    "colab": {
      "provenance": [],
      "gpuType": "T4",
      "authorship_tag": "ABX9TyMEgmJMTxhtnoOOtTuzBduc",
      "include_colab_link": true
    },
    "kernelspec": {
      "name": "python3",
      "display_name": "Python 3"
    },
    "language_info": {
      "name": "python"
    },
    "accelerator": "GPU",
    "widgets": {
      "application/vnd.jupyter.widget-state+json": {
        "45b5ea3fe13d41baadd1bd21645fe201": {
          "model_module": "@jupyter-widgets/controls",
          "model_name": "HBoxModel",
          "model_module_version": "1.5.0",
          "state": {
            "_dom_classes": [],
            "_model_module": "@jupyter-widgets/controls",
            "_model_module_version": "1.5.0",
            "_model_name": "HBoxModel",
            "_view_count": null,
            "_view_module": "@jupyter-widgets/controls",
            "_view_module_version": "1.5.0",
            "_view_name": "HBoxView",
            "box_style": "",
            "children": [
              "IPY_MODEL_e0edb13d62824d308856c002760d7207",
              "IPY_MODEL_9a65a7d08f2947cfbfa3bdace3f066a3",
              "IPY_MODEL_cb9d68aa2bed4d709d4c06b2ea2dc173"
            ],
            "layout": "IPY_MODEL_c08ba7b668a7430db48673cddc7d2b5a"
          }
        },
        "e0edb13d62824d308856c002760d7207": {
          "model_module": "@jupyter-widgets/controls",
          "model_name": "HTMLModel",
          "model_module_version": "1.5.0",
          "state": {
            "_dom_classes": [],
            "_model_module": "@jupyter-widgets/controls",
            "_model_module_version": "1.5.0",
            "_model_name": "HTMLModel",
            "_view_count": null,
            "_view_module": "@jupyter-widgets/controls",
            "_view_module_version": "1.5.0",
            "_view_name": "HTMLView",
            "description": "",
            "description_tooltip": null,
            "layout": "IPY_MODEL_46e07840b678414eba649a82eff7f1e3",
            "placeholder": "​",
            "style": "IPY_MODEL_c4b66e502b684aa19c1aba5fd722c7fe",
            "value": "Loading checkpoint shards: 100%"
          }
        },
        "9a65a7d08f2947cfbfa3bdace3f066a3": {
          "model_module": "@jupyter-widgets/controls",
          "model_name": "FloatProgressModel",
          "model_module_version": "1.5.0",
          "state": {
            "_dom_classes": [],
            "_model_module": "@jupyter-widgets/controls",
            "_model_module_version": "1.5.0",
            "_model_name": "FloatProgressModel",
            "_view_count": null,
            "_view_module": "@jupyter-widgets/controls",
            "_view_module_version": "1.5.0",
            "_view_name": "ProgressView",
            "bar_style": "success",
            "description": "",
            "description_tooltip": null,
            "layout": "IPY_MODEL_06fef247bdfc4723b47543f54e3f1079",
            "max": 2,
            "min": 0,
            "orientation": "horizontal",
            "style": "IPY_MODEL_75e81060372a4cb1830a66179d2a3760",
            "value": 2
          }
        },
        "cb9d68aa2bed4d709d4c06b2ea2dc173": {
          "model_module": "@jupyter-widgets/controls",
          "model_name": "HTMLModel",
          "model_module_version": "1.5.0",
          "state": {
            "_dom_classes": [],
            "_model_module": "@jupyter-widgets/controls",
            "_model_module_version": "1.5.0",
            "_model_name": "HTMLModel",
            "_view_count": null,
            "_view_module": "@jupyter-widgets/controls",
            "_view_module_version": "1.5.0",
            "_view_name": "HTMLView",
            "description": "",
            "description_tooltip": null,
            "layout": "IPY_MODEL_5b6edf3ba57b437da9d77b34b725705f",
            "placeholder": "​",
            "style": "IPY_MODEL_70218ee17b924f26a489cdba0d8fa5d1",
            "value": " 2/2 [00:28&lt;00:00, 13.39s/it]"
          }
        },
        "c08ba7b668a7430db48673cddc7d2b5a": {
          "model_module": "@jupyter-widgets/base",
          "model_name": "LayoutModel",
          "model_module_version": "1.2.0",
          "state": {
            "_model_module": "@jupyter-widgets/base",
            "_model_module_version": "1.2.0",
            "_model_name": "LayoutModel",
            "_view_count": null,
            "_view_module": "@jupyter-widgets/base",
            "_view_module_version": "1.2.0",
            "_view_name": "LayoutView",
            "align_content": null,
            "align_items": null,
            "align_self": null,
            "border": null,
            "bottom": null,
            "display": null,
            "flex": null,
            "flex_flow": null,
            "grid_area": null,
            "grid_auto_columns": null,
            "grid_auto_flow": null,
            "grid_auto_rows": null,
            "grid_column": null,
            "grid_gap": null,
            "grid_row": null,
            "grid_template_areas": null,
            "grid_template_columns": null,
            "grid_template_rows": null,
            "height": null,
            "justify_content": null,
            "justify_items": null,
            "left": null,
            "margin": null,
            "max_height": null,
            "max_width": null,
            "min_height": null,
            "min_width": null,
            "object_fit": null,
            "object_position": null,
            "order": null,
            "overflow": null,
            "overflow_x": null,
            "overflow_y": null,
            "padding": null,
            "right": null,
            "top": null,
            "visibility": null,
            "width": null
          }
        },
        "46e07840b678414eba649a82eff7f1e3": {
          "model_module": "@jupyter-widgets/base",
          "model_name": "LayoutModel",
          "model_module_version": "1.2.0",
          "state": {
            "_model_module": "@jupyter-widgets/base",
            "_model_module_version": "1.2.0",
            "_model_name": "LayoutModel",
            "_view_count": null,
            "_view_module": "@jupyter-widgets/base",
            "_view_module_version": "1.2.0",
            "_view_name": "LayoutView",
            "align_content": null,
            "align_items": null,
            "align_self": null,
            "border": null,
            "bottom": null,
            "display": null,
            "flex": null,
            "flex_flow": null,
            "grid_area": null,
            "grid_auto_columns": null,
            "grid_auto_flow": null,
            "grid_auto_rows": null,
            "grid_column": null,
            "grid_gap": null,
            "grid_row": null,
            "grid_template_areas": null,
            "grid_template_columns": null,
            "grid_template_rows": null,
            "height": null,
            "justify_content": null,
            "justify_items": null,
            "left": null,
            "margin": null,
            "max_height": null,
            "max_width": null,
            "min_height": null,
            "min_width": null,
            "object_fit": null,
            "object_position": null,
            "order": null,
            "overflow": null,
            "overflow_x": null,
            "overflow_y": null,
            "padding": null,
            "right": null,
            "top": null,
            "visibility": null,
            "width": null
          }
        },
        "c4b66e502b684aa19c1aba5fd722c7fe": {
          "model_module": "@jupyter-widgets/controls",
          "model_name": "DescriptionStyleModel",
          "model_module_version": "1.5.0",
          "state": {
            "_model_module": "@jupyter-widgets/controls",
            "_model_module_version": "1.5.0",
            "_model_name": "DescriptionStyleModel",
            "_view_count": null,
            "_view_module": "@jupyter-widgets/base",
            "_view_module_version": "1.2.0",
            "_view_name": "StyleView",
            "description_width": ""
          }
        },
        "06fef247bdfc4723b47543f54e3f1079": {
          "model_module": "@jupyter-widgets/base",
          "model_name": "LayoutModel",
          "model_module_version": "1.2.0",
          "state": {
            "_model_module": "@jupyter-widgets/base",
            "_model_module_version": "1.2.0",
            "_model_name": "LayoutModel",
            "_view_count": null,
            "_view_module": "@jupyter-widgets/base",
            "_view_module_version": "1.2.0",
            "_view_name": "LayoutView",
            "align_content": null,
            "align_items": null,
            "align_self": null,
            "border": null,
            "bottom": null,
            "display": null,
            "flex": null,
            "flex_flow": null,
            "grid_area": null,
            "grid_auto_columns": null,
            "grid_auto_flow": null,
            "grid_auto_rows": null,
            "grid_column": null,
            "grid_gap": null,
            "grid_row": null,
            "grid_template_areas": null,
            "grid_template_columns": null,
            "grid_template_rows": null,
            "height": null,
            "justify_content": null,
            "justify_items": null,
            "left": null,
            "margin": null,
            "max_height": null,
            "max_width": null,
            "min_height": null,
            "min_width": null,
            "object_fit": null,
            "object_position": null,
            "order": null,
            "overflow": null,
            "overflow_x": null,
            "overflow_y": null,
            "padding": null,
            "right": null,
            "top": null,
            "visibility": null,
            "width": null
          }
        },
        "75e81060372a4cb1830a66179d2a3760": {
          "model_module": "@jupyter-widgets/controls",
          "model_name": "ProgressStyleModel",
          "model_module_version": "1.5.0",
          "state": {
            "_model_module": "@jupyter-widgets/controls",
            "_model_module_version": "1.5.0",
            "_model_name": "ProgressStyleModel",
            "_view_count": null,
            "_view_module": "@jupyter-widgets/base",
            "_view_module_version": "1.2.0",
            "_view_name": "StyleView",
            "bar_color": null,
            "description_width": ""
          }
        },
        "5b6edf3ba57b437da9d77b34b725705f": {
          "model_module": "@jupyter-widgets/base",
          "model_name": "LayoutModel",
          "model_module_version": "1.2.0",
          "state": {
            "_model_module": "@jupyter-widgets/base",
            "_model_module_version": "1.2.0",
            "_model_name": "LayoutModel",
            "_view_count": null,
            "_view_module": "@jupyter-widgets/base",
            "_view_module_version": "1.2.0",
            "_view_name": "LayoutView",
            "align_content": null,
            "align_items": null,
            "align_self": null,
            "border": null,
            "bottom": null,
            "display": null,
            "flex": null,
            "flex_flow": null,
            "grid_area": null,
            "grid_auto_columns": null,
            "grid_auto_flow": null,
            "grid_auto_rows": null,
            "grid_column": null,
            "grid_gap": null,
            "grid_row": null,
            "grid_template_areas": null,
            "grid_template_columns": null,
            "grid_template_rows": null,
            "height": null,
            "justify_content": null,
            "justify_items": null,
            "left": null,
            "margin": null,
            "max_height": null,
            "max_width": null,
            "min_height": null,
            "min_width": null,
            "object_fit": null,
            "object_position": null,
            "order": null,
            "overflow": null,
            "overflow_x": null,
            "overflow_y": null,
            "padding": null,
            "right": null,
            "top": null,
            "visibility": null,
            "width": null
          }
        },
        "70218ee17b924f26a489cdba0d8fa5d1": {
          "model_module": "@jupyter-widgets/controls",
          "model_name": "DescriptionStyleModel",
          "model_module_version": "1.5.0",
          "state": {
            "_model_module": "@jupyter-widgets/controls",
            "_model_module_version": "1.5.0",
            "_model_name": "DescriptionStyleModel",
            "_view_count": null,
            "_view_module": "@jupyter-widgets/base",
            "_view_module_version": "1.2.0",
            "_view_name": "StyleView",
            "description_width": ""
          }
        }
      }
    }
  },
  "cells": [
    {
      "cell_type": "markdown",
      "metadata": {
        "id": "view-in-github",
        "colab_type": "text"
      },
      "source": [
        "<a href=\"https://colab.research.google.com/github/alferreiro/rBioTest/blob/main/rBioTest.ipynb\" target=\"_parent\"><img src=\"https://colab.research.google.com/assets/colab-badge.svg\" alt=\"Open In Colab\"/></a>"
      ]
    },
    {
      "cell_type": "code",
      "execution_count": 1,
      "metadata": {
        "colab": {
          "base_uri": "https://localhost:8080/"
        },
        "collapsed": true,
        "id": "KKndAkD6UpHL",
        "outputId": "f7ad103a-64bc-4369-83c9-a144f601c55f"
      },
      "outputs": [
        {
          "output_type": "stream",
          "name": "stdout",
          "text": [
            "Package                               Version\n",
            "------------------------------------- -------------------\n",
            "absl-py                               1.4.0\n",
            "absolufy-imports                      0.3.1\n",
            "accelerate                            1.10.0\n",
            "aiofiles                              24.1.0\n",
            "aiohappyeyeballs                      2.6.1\n",
            "aiohttp                               3.12.15\n",
            "aiosignal                             1.4.0\n",
            "alabaster                             1.0.0\n",
            "albucore                              0.0.24\n",
            "albumentations                        2.0.8\n",
            "ale-py                                0.11.2\n",
            "altair                                5.5.0\n",
            "annotated-types                       0.7.0\n",
            "antlr4-python3-runtime                4.9.3\n",
            "anyio                                 4.10.0\n",
            "anywidget                             0.9.18\n",
            "argon2-cffi                           25.1.0\n",
            "argon2-cffi-bindings                  25.1.0\n",
            "array_record                          0.7.2\n",
            "arviz                                 0.22.0\n",
            "astropy                               7.1.0\n",
            "astropy-iers-data                     0.2025.8.18.0.40.14\n",
            "astunparse                            1.6.3\n",
            "atpublic                              5.1\n",
            "attrs                                 25.3.0\n",
            "audioread                             3.0.1\n",
            "Authlib                               1.6.1\n",
            "autograd                              1.8.0\n",
            "babel                                 2.17.0\n",
            "backcall                              0.2.0\n",
            "beartype                              0.21.0\n",
            "beautifulsoup4                        4.13.4\n",
            "betterproto                           2.0.0b6\n",
            "bigframes                             2.15.0\n",
            "bigquery-magics                       0.10.2\n",
            "bleach                                6.2.0\n",
            "blinker                               1.9.0\n",
            "blis                                  1.3.0\n",
            "blobfile                              3.0.0\n",
            "blosc2                                3.7.1\n",
            "bokeh                                 3.7.3\n",
            "Bottleneck                            1.4.2\n",
            "bqplot                                0.12.45\n",
            "branca                                0.8.1\n",
            "Brotli                                1.1.0\n",
            "build                                 1.3.0\n",
            "CacheControl                          0.14.3\n",
            "cachetools                            5.5.2\n",
            "catalogue                             2.0.10\n",
            "certifi                               2025.8.3\n",
            "cffi                                  1.17.1\n",
            "chardet                               5.2.0\n",
            "charset-normalizer                    3.4.3\n",
            "chex                                  0.1.90\n",
            "clarabel                              0.11.1\n",
            "click                                 8.2.1\n",
            "cloudpathlib                          0.21.1\n",
            "cloudpickle                           3.1.1\n",
            "cmake                                 3.31.6\n",
            "cmdstanpy                             1.2.5\n",
            "colorcet                              3.1.0\n",
            "colorlover                            0.3.0\n",
            "colour                                0.1.5\n",
            "community                             1.0.0b1\n",
            "confection                            0.1.5\n",
            "cons                                  0.4.7\n",
            "contourpy                             1.3.3\n",
            "cramjam                               2.11.0\n",
            "cryptography                          43.0.3\n",
            "cuda-python                           12.6.2.post1\n",
            "cudf-cu12                             25.6.0\n",
            "cudf-polars-cu12                      25.6.0\n",
            "cufflinks                             0.17.3\n",
            "cuml-cu12                             25.6.0\n",
            "cupy-cuda12x                          13.3.0\n",
            "curl_cffi                             0.13.0\n",
            "cuvs-cu12                             25.6.1\n",
            "cvxopt                                1.3.2\n",
            "cvxpy                                 1.6.7\n",
            "cycler                                0.12.1\n",
            "cyipopt                               1.5.0\n",
            "cymem                                 2.0.11\n",
            "Cython                                3.0.12\n",
            "dask                                  2025.5.0\n",
            "dask-cuda                             25.6.0\n",
            "dask-cudf-cu12                        25.6.0\n",
            "dataproc-spark-connect                0.8.3\n",
            "datasets                              4.0.0\n",
            "db-dtypes                             1.4.3\n",
            "dbus-python                           1.2.18\n",
            "debugpy                               1.8.15\n",
            "decorator                             4.4.2\n",
            "defusedxml                            0.7.1\n",
            "diffusers                             0.34.0\n",
            "dill                                  0.3.8\n",
            "distributed                           2025.5.0\n",
            "distributed-ucxx-cu12                 0.44.0\n",
            "distro                                1.9.0\n",
            "dlib                                  19.24.6\n",
            "dm-tree                               0.1.9\n",
            "docstring_parser                      0.17.0\n",
            "docutils                              0.21.2\n",
            "dopamine_rl                           4.1.2\n",
            "duckdb                                1.3.2\n",
            "earthengine-api                       1.5.24\n",
            "easydict                              1.13\n",
            "editdistance                          0.8.1\n",
            "eerepr                                0.1.2\n",
            "einops                                0.8.1\n",
            "en_core_web_sm                        3.8.0\n",
            "entrypoints                           0.4\n",
            "et_xmlfile                            2.0.0\n",
            "etils                                 1.13.0\n",
            "etuples                               0.3.10\n",
            "Farama-Notifications                  0.0.4\n",
            "fastai                                2.8.3\n",
            "fastapi                               0.116.1\n",
            "fastcore                              1.8.7\n",
            "fastdownload                          0.0.7\n",
            "fastjsonschema                        2.21.2\n",
            "fastprogress                          1.0.3\n",
            "fastrlock                             0.8.3\n",
            "fasttransform                         0.0.2\n",
            "ffmpy                                 0.6.1\n",
            "filelock                              3.19.1\n",
            "firebase-admin                        6.9.0\n",
            "Flask                                 3.1.1\n",
            "flatbuffers                           25.2.10\n",
            "flax                                  0.10.6\n",
            "folium                                0.20.0\n",
            "fonttools                             4.59.1\n",
            "frozendict                            2.4.6\n",
            "frozenlist                            1.7.0\n",
            "fsspec                                2025.3.0\n",
            "future                                1.0.0\n",
            "gast                                  0.6.0\n",
            "gcsfs                                 2025.3.0\n",
            "GDAL                                  3.8.4\n",
            "gdown                                 5.2.0\n",
            "geemap                                0.35.3\n",
            "geocoder                              1.38.1\n",
            "geographiclib                         2.0\n",
            "geopandas                             1.1.1\n",
            "geopy                                 2.4.1\n",
            "gin-config                            0.5.0\n",
            "gitdb                                 4.0.12\n",
            "GitPython                             3.1.45\n",
            "glob2                                 0.7\n",
            "google                                2.0.3\n",
            "google-adk                            1.11.0\n",
            "google-ai-generativelanguage          0.6.15\n",
            "google-api-core                       2.25.1\n",
            "google-api-python-client              2.179.0\n",
            "google-auth                           2.38.0\n",
            "google-auth-httplib2                  0.2.0\n",
            "google-auth-oauthlib                  1.2.2\n",
            "google-cloud-aiplatform               1.109.0\n",
            "google-cloud-appengine-logging        1.6.2\n",
            "google-cloud-audit-log                0.3.2\n",
            "google-cloud-bigquery                 3.35.1\n",
            "google-cloud-bigquery-connection      1.18.3\n",
            "google-cloud-bigquery-storage         2.32.0\n",
            "google-cloud-core                     2.4.3\n",
            "google-cloud-dataproc                 5.21.0\n",
            "google-cloud-datastore                2.21.0\n",
            "google-cloud-firestore                2.21.0\n",
            "google-cloud-functions                1.20.4\n",
            "google-cloud-language                 2.17.2\n",
            "google-cloud-logging                  3.12.1\n",
            "google-cloud-resource-manager         1.14.2\n",
            "google-cloud-secret-manager           2.24.0\n",
            "google-cloud-spanner                  3.57.0\n",
            "google-cloud-speech                   2.33.0\n",
            "google-cloud-storage                  2.19.0\n",
            "google-cloud-trace                    1.16.2\n",
            "google-cloud-translate                3.21.1\n",
            "google-colab                          1.0.0\n",
            "google-crc32c                         1.7.1\n",
            "google-genai                          1.30.0\n",
            "google-generativeai                   0.8.5\n",
            "google-pasta                          0.2.0\n",
            "google-resumable-media                2.7.2\n",
            "googleapis-common-protos              1.70.0\n",
            "googledrivedownloader                 1.1.0\n",
            "gradio                                5.42.0\n",
            "gradio_client                         1.11.1\n",
            "graphviz                              0.21\n",
            "greenlet                              3.2.4\n",
            "groovy                                0.1.2\n",
            "grpc-google-iam-v1                    0.14.2\n",
            "grpc-interceptor                      0.15.4\n",
            "grpcio                                1.74.0\n",
            "grpcio-status                         1.71.2\n",
            "grpclib                               0.4.8\n",
            "gspread                               6.2.1\n",
            "gspread-dataframe                     4.0.0\n",
            "gym                                   0.25.2\n",
            "gym-notices                           0.1.0\n",
            "gymnasium                             1.2.0\n",
            "h11                                   0.16.0\n",
            "h2                                    4.2.0\n",
            "h5netcdf                              1.6.4\n",
            "h5py                                  3.14.0\n",
            "hdbscan                               0.8.40\n",
            "hf_transfer                           0.1.9\n",
            "hf-xet                                1.1.7\n",
            "highspy                               1.11.0\n",
            "holidays                              0.78\n",
            "holoviews                             1.21.0\n",
            "hpack                                 4.1.0\n",
            "html5lib                              1.1\n",
            "httpcore                              1.0.9\n",
            "httpimport                            1.4.1\n",
            "httplib2                              0.22.0\n",
            "httpx                                 0.28.1\n",
            "httpx-sse                             0.4.1\n",
            "huggingface-hub                       0.34.4\n",
            "humanize                              4.12.3\n",
            "hyperframe                            6.1.0\n",
            "hyperopt                              0.2.7\n",
            "ibis-framework                        9.5.0\n",
            "idna                                  3.10\n",
            "imageio                               2.37.0\n",
            "imageio-ffmpeg                        0.6.0\n",
            "imagesize                             1.4.1\n",
            "imbalanced-learn                      0.14.0\n",
            "immutabledict                         4.2.1\n",
            "importlib_metadata                    8.7.0\n",
            "importlib_resources                   6.5.2\n",
            "imutils                               0.5.4\n",
            "inflect                               7.5.0\n",
            "iniconfig                             2.1.0\n",
            "intel-cmplr-lib-ur                    2025.2.1\n",
            "intel-openmp                          2025.2.1\n",
            "ipyevents                             2.0.2\n",
            "ipyfilechooser                        0.6.0\n",
            "ipykernel                             6.17.1\n",
            "ipyleaflet                            0.20.0\n",
            "ipyparallel                           8.8.0\n",
            "ipython                               7.34.0\n",
            "ipython-genutils                      0.2.0\n",
            "ipython-sql                           0.5.0\n",
            "ipytree                               0.2.2\n",
            "ipywidgets                            7.7.1\n",
            "itsdangerous                          2.2.0\n",
            "jaraco.classes                        3.4.0\n",
            "jaraco.context                        6.0.1\n",
            "jaraco.functools                      4.2.1\n",
            "jax                                   0.5.3\n",
            "jax-cuda12-pjrt                       0.5.3\n",
            "jax-cuda12-plugin                     0.5.3\n",
            "jaxlib                                0.5.3\n",
            "jeepney                               0.9.0\n",
            "jieba                                 0.42.1\n",
            "Jinja2                                3.1.6\n",
            "jiter                                 0.10.0\n",
            "joblib                                1.5.1\n",
            "jsonpatch                             1.33\n",
            "jsonpickle                            4.1.1\n",
            "jsonpointer                           3.0.0\n",
            "jsonschema                            4.25.1\n",
            "jsonschema-specifications             2025.4.1\n",
            "jupyter-client                        6.1.12\n",
            "jupyter-console                       6.1.0\n",
            "jupyter_core                          5.8.1\n",
            "jupyter_kernel_gateway                2.5.2\n",
            "jupyter-leaflet                       0.20.0\n",
            "jupyter-server                        1.16.0\n",
            "jupyterlab_pygments                   0.3.0\n",
            "jupyterlab_widgets                    3.0.15\n",
            "jupytext                              1.17.2\n",
            "kaggle                                1.7.4.5\n",
            "kagglehub                             0.3.12\n",
            "keras                                 3.10.0\n",
            "keras-hub                             0.21.1\n",
            "keras-nlp                             0.21.1\n",
            "keyring                               25.6.0\n",
            "keyrings.google-artifactregistry-auth 1.1.2\n",
            "kiwisolver                            1.4.9\n",
            "langchain                             0.3.27\n",
            "langchain-core                        0.3.74\n",
            "langchain-text-splitters              0.3.9\n",
            "langcodes                             3.5.0\n",
            "langsmith                             0.4.14\n",
            "language_data                         1.3.0\n",
            "launchpadlib                          1.10.16\n",
            "lazr.restfulclient                    0.14.4\n",
            "lazr.uri                              1.0.6\n",
            "lazy_loader                           0.4\n",
            "libclang                              18.1.1\n",
            "libcudf-cu12                          25.6.0\n",
            "libcugraph-cu12                       25.6.0\n",
            "libcuml-cu12                          25.6.0\n",
            "libcuvs-cu12                          25.6.1\n",
            "libkvikio-cu12                        25.6.0\n",
            "libpysal                              4.13.0\n",
            "libraft-cu12                          25.6.0\n",
            "librmm-cu12                           25.6.0\n",
            "librosa                               0.11.0\n",
            "libucx-cu12                           1.18.1\n",
            "libucxx-cu12                          0.44.0\n",
            "lightgbm                              4.6.0\n",
            "linkify-it-py                         2.0.3\n",
            "llvmlite                              0.43.0\n",
            "locket                                1.0.0\n",
            "logical-unification                   0.4.6\n",
            "lxml                                  5.4.0\n",
            "Mako                                  1.1.3\n",
            "marisa-trie                           1.3.0\n",
            "Markdown                              3.8.2\n",
            "markdown-it-py                        4.0.0\n",
            "MarkupSafe                            3.0.2\n",
            "matplotlib                            3.10.0\n",
            "matplotlib-inline                     0.1.7\n",
            "matplotlib-venn                       1.1.2\n",
            "mcp                                   1.13.0\n",
            "mdit-py-plugins                       0.5.0\n",
            "mdurl                                 0.1.2\n",
            "miniKanren                            1.0.5\n",
            "missingno                             0.5.2\n",
            "mistune                               3.1.3\n",
            "mizani                                0.13.5\n",
            "mkl                                   2025.2.0\n",
            "ml_dtypes                             0.5.3\n",
            "mlxtend                               0.23.4\n",
            "more-itertools                        10.7.0\n",
            "moviepy                               1.0.3\n",
            "mpmath                                1.3.0\n",
            "msgpack                               1.1.1\n",
            "multidict                             6.6.4\n",
            "multipledispatch                      1.0.0\n",
            "multiprocess                          0.70.16\n",
            "multitasking                          0.0.12\n",
            "murmurhash                            1.0.13\n",
            "music21                               9.3.0\n",
            "namex                                 0.1.0\n",
            "narwhals                              2.1.2\n",
            "natsort                               8.4.0\n",
            "nbclassic                             1.3.1\n",
            "nbclient                              0.10.2\n",
            "nbconvert                             7.16.6\n",
            "nbformat                              5.10.4\n",
            "ndindex                               1.10.0\n",
            "nest-asyncio                          1.6.0\n",
            "networkx                              3.5\n",
            "nibabel                               5.3.2\n",
            "nltk                                  3.9.1\n",
            "notebook                              6.5.7\n",
            "notebook_shim                         0.2.4\n",
            "numba                                 0.60.0\n",
            "numba-cuda                            0.11.0\n",
            "numexpr                               2.11.0\n",
            "numpy                                 2.0.2\n",
            "nvidia-cublas-cu12                    12.6.4.1\n",
            "nvidia-cuda-cupti-cu12                12.6.80\n",
            "nvidia-cuda-nvcc-cu12                 12.5.82\n",
            "nvidia-cuda-nvrtc-cu12                12.6.77\n",
            "nvidia-cuda-runtime-cu12              12.6.77\n",
            "nvidia-cudnn-cu12                     9.10.2.21\n",
            "nvidia-cufft-cu12                     11.3.0.4\n",
            "nvidia-cufile-cu12                    1.11.1.6\n",
            "nvidia-curand-cu12                    10.3.7.77\n",
            "nvidia-cusolver-cu12                  11.7.1.2\n",
            "nvidia-cusparse-cu12                  12.5.4.2\n",
            "nvidia-cusparselt-cu12                0.7.1\n",
            "nvidia-ml-py                          12.575.51\n",
            "nvidia-nccl-cu12                      2.27.3\n",
            "nvidia-nvjitlink-cu12                 12.6.85\n",
            "nvidia-nvtx-cu12                      12.6.77\n",
            "nvtx                                  0.2.13\n",
            "nx-cugraph-cu12                       25.6.0\n",
            "oauth2client                          4.1.3\n",
            "oauthlib                              3.3.1\n",
            "omegaconf                             2.3.0\n",
            "openai                                1.100.0\n",
            "opencv-contrib-python                 4.12.0.88\n",
            "opencv-python                         4.12.0.88\n",
            "opencv-python-headless                4.12.0.88\n",
            "openpyxl                              3.1.5\n",
            "opentelemetry-api                     1.36.0\n",
            "opentelemetry-exporter-gcp-trace      1.9.0\n",
            "opentelemetry-resourcedetector-gcp    1.9.0a0\n",
            "opentelemetry-sdk                     1.36.0\n",
            "opentelemetry-semantic-conventions    0.57b0\n",
            "opt_einsum                            3.4.0\n",
            "optax                                 0.2.5\n",
            "optree                                0.17.0\n",
            "orbax-checkpoint                      0.11.22\n",
            "orjson                                3.11.2\n",
            "osqp                                  1.0.4\n",
            "packaging                             25.0\n",
            "pandas                                2.2.2\n",
            "pandas-datareader                     0.10.0\n",
            "pandas-gbq                            0.29.2\n",
            "pandas-stubs                          2.2.2.240909\n",
            "pandocfilters                         1.5.1\n",
            "panel                                 1.7.5\n",
            "param                                 2.2.1\n",
            "parso                                 0.8.4\n",
            "parsy                                 2.1\n",
            "partd                                 1.4.2\n",
            "patsy                                 1.0.1\n",
            "peewee                                3.18.2\n",
            "peft                                  0.17.0\n",
            "pexpect                               4.9.0\n",
            "pickleshare                           0.7.5\n",
            "pillow                                11.3.0\n",
            "pip                                   24.1.2\n",
            "platformdirs                          4.3.8\n",
            "plotly                                5.24.1\n",
            "plotnine                              0.14.5\n",
            "pluggy                                1.6.0\n",
            "plum-dispatch                         2.5.7\n",
            "ply                                   3.11\n",
            "polars                                1.25.2\n",
            "pooch                                 1.8.2\n",
            "portpicker                            1.5.2\n",
            "preshed                               3.0.10\n",
            "prettytable                           3.16.0\n",
            "proglog                               0.1.12\n",
            "progressbar2                          4.5.0\n",
            "prometheus_client                     0.22.1\n",
            "promise                               2.3\n",
            "prompt_toolkit                        3.0.51\n",
            "propcache                             0.3.2\n",
            "prophet                               1.1.7\n",
            "proto-plus                            1.26.1\n",
            "protobuf                              5.29.5\n",
            "psutil                                5.9.5\n",
            "psycopg2                              2.9.10\n",
            "psygnal                               0.14.1\n",
            "ptyprocess                            0.7.0\n",
            "py-cpuinfo                            9.0.0\n",
            "py4j                                  0.10.9.7\n",
            "pyarrow                               18.1.0\n",
            "pyasn1                                0.6.1\n",
            "pyasn1_modules                        0.4.2\n",
            "pycairo                               1.28.0\n",
            "pycocotools                           2.0.10\n",
            "pycparser                             2.22\n",
            "pycryptodomex                         3.23.0\n",
            "pydantic                              2.11.7\n",
            "pydantic_core                         2.33.2\n",
            "pydantic-settings                     2.10.1\n",
            "pydata-google-auth                    1.9.1\n",
            "pydot                                 3.0.4\n",
            "pydotplus                             2.0.2\n",
            "PyDrive2                              1.21.3\n",
            "pydub                                 0.25.1\n",
            "pyerfa                                2.0.1.5\n",
            "pygame                                2.6.1\n",
            "pygit2                                1.18.2\n",
            "Pygments                              2.19.2\n",
            "PyGObject                             3.42.0\n",
            "PyJWT                                 2.10.1\n",
            "pylibcudf-cu12                        25.6.0\n",
            "pylibcugraph-cu12                     25.6.0\n",
            "pylibraft-cu12                        25.6.0\n",
            "pymc                                  5.25.1\n",
            "pynndescent                           0.5.13\n",
            "pynvjitlink-cu12                      0.7.0\n",
            "pynvml                                12.0.0\n",
            "pyogrio                               0.11.1\n",
            "pyomo                                 6.9.3\n",
            "PyOpenGL                              3.1.10\n",
            "pyOpenSSL                             24.2.1\n",
            "pyparsing                             3.2.3\n",
            "pyperclip                             1.9.0\n",
            "pyproj                                3.7.2\n",
            "pyproject_hooks                       1.2.0\n",
            "pyshp                                 2.3.1\n",
            "PySocks                               1.7.1\n",
            "pyspark                               3.5.1\n",
            "pytensor                              2.31.7\n",
            "pytest                                8.4.1\n",
            "python-apt                            0.0.0\n",
            "python-box                            7.3.2\n",
            "python-dateutil                       2.9.0.post0\n",
            "python-dotenv                         1.1.1\n",
            "python-louvain                        0.16\n",
            "python-multipart                      0.0.20\n",
            "python-slugify                        8.0.4\n",
            "python-snappy                         0.7.3\n",
            "python-utils                          3.9.1\n",
            "pytz                                  2025.2\n",
            "pyviz_comms                           3.0.6\n",
            "PyWavelets                            1.9.0\n",
            "PyYAML                                6.0.2\n",
            "pyzmq                                 26.2.1\n",
            "raft-dask-cu12                        25.6.0\n",
            "rapids-dask-dependency                25.6.0\n",
            "rapids-logger                         0.1.1\n",
            "ratelim                               0.1.6\n",
            "referencing                           0.36.2\n",
            "regex                                 2024.11.6\n",
            "requests                              2.32.4\n",
            "requests-oauthlib                     2.0.0\n",
            "requests-toolbelt                     1.0.0\n",
            "requirements-parser                   0.9.0\n",
            "rich                                  13.9.4\n",
            "rmm-cu12                              25.6.0\n",
            "roman-numerals-py                     3.1.0\n",
            "rpds-py                               0.27.0\n",
            "rpy2                                  3.5.17\n",
            "rsa                                   4.9.1\n",
            "ruff                                  0.12.9\n",
            "safehttpx                             0.1.6\n",
            "safetensors                           0.6.2\n",
            "scikit-image                          0.25.2\n",
            "scikit-learn                          1.6.1\n",
            "scipy                                 1.16.1\n",
            "scooby                                0.10.1\n",
            "scs                                   3.2.8\n",
            "seaborn                               0.13.2\n",
            "SecretStorage                         3.3.3\n",
            "semantic-version                      2.10.0\n",
            "Send2Trash                            1.8.3\n",
            "sentence-transformers                 5.1.0\n",
            "sentencepiece                         0.2.1\n",
            "sentry-sdk                            2.35.0\n",
            "setuptools                            75.2.0\n",
            "shap                                  0.48.0\n",
            "shapely                               2.1.1\n",
            "shellingham                           1.5.4\n",
            "simple-parsing                        0.1.7\n",
            "simplejson                            3.20.1\n",
            "simsimd                               6.5.1\n",
            "six                                   1.17.0\n",
            "sklearn-pandas                        2.2.0\n",
            "slicer                                0.0.8\n",
            "smart_open                            7.3.0.post1\n",
            "smmap                                 5.0.2\n",
            "sniffio                               1.3.1\n",
            "snowballstemmer                       3.0.1\n",
            "sortedcontainers                      2.4.0\n",
            "soundfile                             0.13.1\n",
            "soupsieve                             2.7\n",
            "soxr                                  0.5.0.post1\n",
            "spacy                                 3.8.7\n",
            "spacy-legacy                          3.0.12\n",
            "spacy-loggers                         1.0.5\n",
            "spanner-graph-notebook                1.1.7\n",
            "Sphinx                                8.2.3\n",
            "sphinxcontrib-applehelp               2.0.0\n",
            "sphinxcontrib-devhelp                 2.0.0\n",
            "sphinxcontrib-htmlhelp                2.1.0\n",
            "sphinxcontrib-jsmath                  1.0.1\n",
            "sphinxcontrib-qthelp                  2.0.0\n",
            "sphinxcontrib-serializinghtml         2.0.0\n",
            "SQLAlchemy                            2.0.43\n",
            "sqlglot                               25.20.2\n",
            "sqlparse                              0.5.3\n",
            "srsly                                 2.5.1\n",
            "sse-starlette                         3.0.2\n",
            "stanio                                0.5.1\n",
            "starlette                             0.47.2\n",
            "statsmodels                           0.14.5\n",
            "stringzilla                           3.12.6\n",
            "stumpy                                1.13.0\n",
            "sympy                                 1.13.3\n",
            "tables                                3.10.2\n",
            "tabulate                              0.9.0\n",
            "tbb                                   2022.2.0\n",
            "tblib                                 3.1.0\n",
            "tcmlib                                1.4.0\n",
            "tenacity                              8.5.0\n",
            "tensorboard                           2.19.0\n",
            "tensorboard-data-server               0.7.2\n",
            "tensorflow                            2.19.0\n",
            "tensorflow-datasets                   4.9.9\n",
            "tensorflow_decision_forests           1.12.0\n",
            "tensorflow-hub                        0.16.1\n",
            "tensorflow-metadata                   1.17.2\n",
            "tensorflow-probability                0.25.0\n",
            "tensorflow-text                       2.19.0\n",
            "tensorstore                           0.1.76\n",
            "termcolor                             3.1.0\n",
            "terminado                             0.18.1\n",
            "text-unidecode                        1.3\n",
            "textblob                              0.19.0\n",
            "tf_keras                              2.19.0\n",
            "tf-slim                               1.1.0\n",
            "thinc                                 8.3.6\n",
            "threadpoolctl                         3.6.0\n",
            "tifffile                              2025.6.11\n",
            "tiktoken                              0.11.0\n",
            "timm                                  1.0.19\n",
            "tinycss2                              1.4.0\n",
            "tokenizers                            0.21.4\n",
            "toml                                  0.10.2\n",
            "tomlkit                               0.13.3\n",
            "toolz                                 0.12.1\n",
            "torch                                 2.8.0+cu126\n",
            "torchao                               0.10.0\n",
            "torchaudio                            2.8.0+cu126\n",
            "torchdata                             0.11.0\n",
            "torchsummary                          1.5.1\n",
            "torchtune                             0.6.1\n",
            "torchvision                           0.23.0+cu126\n",
            "tornado                               6.4.2\n",
            "tqdm                                  4.67.1\n",
            "traitlets                             5.7.1\n",
            "traittypes                            0.2.1\n",
            "transformers                          4.55.2\n",
            "treelite                              4.4.1\n",
            "treescope                             0.1.10\n",
            "triton                                3.4.0\n",
            "tsfresh                               0.21.0\n",
            "tweepy                                4.16.0\n",
            "typeguard                             4.4.4\n",
            "typer                                 0.16.0\n",
            "types-pytz                            2025.2.0.20250809\n",
            "types-setuptools                      80.9.0.20250822\n",
            "typing_extensions                     4.14.1\n",
            "typing-inspection                     0.4.1\n",
            "tzdata                                2025.2\n",
            "tzlocal                               5.3.1\n",
            "uc-micro-py                           1.0.3\n",
            "ucx-py-cu12                           0.44.0\n",
            "ucxx-cu12                             0.44.0\n",
            "umap-learn                            0.5.9.post2\n",
            "umf                                   0.11.0\n",
            "uritemplate                           4.2.0\n",
            "urllib3                               2.5.0\n",
            "uvicorn                               0.35.0\n",
            "vega-datasets                         0.9.0\n",
            "wadllib                               1.3.6\n",
            "wandb                                 0.21.1\n",
            "wasabi                                1.1.3\n",
            "watchdog                              6.0.0\n",
            "wcwidth                               0.2.13\n",
            "weasel                                0.4.1\n",
            "webcolors                             24.11.1\n",
            "webencodings                          0.5.1\n",
            "websocket-client                      1.8.0\n",
            "websockets                            15.0.1\n",
            "Werkzeug                              3.1.3\n",
            "wheel                                 0.45.1\n",
            "widgetsnbextension                    3.6.10\n",
            "wordcloud                             1.9.4\n",
            "wrapt                                 1.17.3\n",
            "wurlitzer                             3.1.1\n",
            "xarray                                2025.8.0\n",
            "xarray-einstats                       0.9.1\n",
            "xgboost                               3.0.4\n",
            "xlrd                                  2.0.2\n",
            "xxhash                                3.5.0\n",
            "xyzservices                           2025.4.0\n",
            "yarl                                  1.20.1\n",
            "ydf                                   0.13.0\n",
            "yellowbrick                           1.5\n",
            "yfinance                              0.2.65\n",
            "zict                                  3.0.0\n",
            "zipp                                  3.23.0\n",
            "zstandard                             0.24.0\n"
          ]
        }
      ],
      "source": [
        "pip list"
      ]
    },
    {
      "cell_type": "code",
      "source": [
        "%%capture [--no-stderr]\n",
        "!pip install transformers==4.41.2 safetensors==0.4.3 torch boto3 pandas awscli"
      ],
      "metadata": {
        "id": "eb6ZbZmSUxVV"
      },
      "execution_count": 2,
      "outputs": []
    },
    {
      "cell_type": "markdown",
      "source": [
        "Check for access to Rbio model weights and explore checkpoints"
      ],
      "metadata": {
        "id": "THANIAyEV3Ra"
      }
    },
    {
      "cell_type": "code",
      "source": [
        "!aws s3 ls s3://czi-rbio/ --no-sign-request"
      ],
      "metadata": {
        "colab": {
          "base_uri": "https://localhost:8080/"
        },
        "id": "Ew_Gk1YQV9oy",
        "outputId": "f969b0fb-72d1-40f1-c5ea-bead9089423a"
      },
      "execution_count": 2,
      "outputs": [
        {
          "output_type": "stream",
          "name": "stdout",
          "text": [
            "                           PRE rbio1-EXP/\n",
            "                           PRE rbio1-GO+EXP/\n",
            "                           PRE rbio1-GO-C/\n",
            "                           PRE rbio1-GO-F/\n",
            "                           PRE rbio1-GO/\n",
            "                           PRE rbio1-MLP/\n",
            "                           PRE rbio1-TF+EXP/\n",
            "                           PRE rbio1-TF+GO+EXP/\n",
            "                           PRE rbio1-TF+GO+MLP+EXP/\n",
            "                           PRE rbio1-TF+GO+MLP/\n",
            "                           PRE rbio1-TF/\n"
          ]
        }
      ]
    },
    {
      "cell_type": "markdown",
      "source": [
        "Explore check points for rbio1-TF+GO+EXP: Post-trained using: experimental data acting as a “hard verifier” on the task at hand; Transcriptformer foundation model as “soft verifier” using PMI scores; and Gene Ontology (GO-all: GO-P + GO-C + GO-F) knowledge base as a “soft verifier” for biological facts consistency."
      ],
      "metadata": {
        "id": "K7kG9ZqRdwmZ"
      }
    },
    {
      "cell_type": "code",
      "source": [
        "!aws s3 ls s3://czi-rbio/rbio1-TF+GO+EXP/ --no-sign-request"
      ],
      "metadata": {
        "colab": {
          "base_uri": "https://localhost:8080/"
        },
        "id": "pYgbbe4weEvf",
        "outputId": "21d52e1c-ae9c-4e1d-daa8-34d2693c89d4"
      },
      "execution_count": 3,
      "outputs": [
        {
          "output_type": "stream",
          "name": "stdout",
          "text": [
            "                           PRE global_step100000/\n",
            "2025-08-18 18:22:31          0 _SUCCESS\n",
            "2025-08-18 18:22:32        605 added_tokens.json\n",
            "2025-08-18 18:22:32        685 config.json\n",
            "2025-08-18 18:22:32        243 generation_config.json\n",
            "2025-08-18 18:25:17         17 latest\n",
            "2025-08-18 18:25:18    1671853 merges.txt\n",
            "2025-08-18 18:25:18 4957560304 model-00001-of-00002.safetensors\n",
            "2025-08-18 18:25:18 1214366696 model-00002-of-00002.safetensors\n",
            "2025-08-18 18:25:18      35581 model.safetensors.index.json\n",
            "2025-08-18 18:25:19      16389 rng_state_0.pth\n",
            "2025-08-18 18:25:19      16389 rng_state_1.pth\n",
            "2025-08-18 18:25:19      16389 rng_state_2.pth\n",
            "2025-08-18 18:25:20      16389 rng_state_3.pth\n",
            "2025-08-18 18:25:20      16389 rng_state_4.pth\n",
            "2025-08-18 18:25:20      16389 rng_state_5.pth\n",
            "2025-08-18 18:25:20      16389 rng_state_6.pth\n",
            "2025-08-18 18:25:21      16325 rng_state_7.pth\n",
            "2025-08-18 18:25:21       1465 scheduler.pt\n",
            "2025-08-18 18:25:21        613 special_tokens_map.json\n",
            "2025-08-18 18:25:21   11422063 tokenizer.json\n",
            "2025-08-18 18:25:22       7362 tokenizer_config.json\n",
            "2025-08-18 18:25:22     170489 trainer_state.json\n",
            "2025-08-18 18:25:23       9105 training_args.bin\n",
            "2025-08-18 18:25:23    2776833 vocab.json\n",
            "2025-08-18 18:25:23      33272 zero_to_fp32.py\n"
          ]
        }
      ]
    },
    {
      "cell_type": "markdown",
      "source": [
        "Make the local directory"
      ],
      "metadata": {
        "id": "6A50sEHXeijA"
      }
    },
    {
      "cell_type": "code",
      "source": [
        "!mkdir -p ./rbio_TF_GO_EXP/\n",
        "local_dir = './rbio_TF_GO_EXP/'"
      ],
      "metadata": {
        "id": "QbR0kfU4eiQI"
      },
      "execution_count": 2,
      "outputs": []
    },
    {
      "cell_type": "markdown",
      "source": [
        "Model weights"
      ],
      "metadata": {
        "id": "wi6aekx2eumc"
      }
    },
    {
      "cell_type": "code",
      "source": [
        "!aws s3 cp s3://czi-rbio/rbio1-TF+GO+EXP/model.safetensors.index.json {local_dir} --no-sign-request\n",
        "!aws s3 cp s3://czi-rbio/rbio1-TF+GO+EXP/model-00001-of-00002.safetensors {local_dir} --no-sign-request\n",
        "!aws s3 cp s3://czi-rbio/rbio1-TF+GO+EXP/model-00002-of-00002.safetensors {local_dir} --no-sign-request"
      ],
      "metadata": {
        "colab": {
          "base_uri": "https://localhost:8080/"
        },
        "id": "EOip_sjPedwr",
        "outputId": "28b1bb7c-7b9b-40f7-8638-ee7c1d8a0dd4"
      },
      "execution_count": 3,
      "outputs": [
        {
          "output_type": "stream",
          "name": "stdout",
          "text": [
            "download: s3://czi-rbio/rbio1-TF+GO+EXP/model.safetensors.index.json to rbio_TF_GO_EXP/model.safetensors.index.json\n",
            "download: s3://czi-rbio/rbio1-TF+GO+EXP/model-00001-of-00002.safetensors to rbio_TF_GO_EXP/model-00001-of-00002.safetensors\n",
            "download: s3://czi-rbio/rbio1-TF+GO+EXP/model-00002-of-00002.safetensors to rbio_TF_GO_EXP/model-00002-of-00002.safetensors\n"
          ]
        }
      ]
    },
    {
      "cell_type": "markdown",
      "source": [
        "Configuration and Tokenizer"
      ],
      "metadata": {
        "id": "pCDIKRPPfc7U"
      }
    },
    {
      "cell_type": "code",
      "source": [
        "!aws s3 cp s3://czi-rbio/rbio1-TF+GO+EXP/config.json {local_dir} --no-sign-request\n",
        "!aws s3 cp s3://czi-rbio/rbio1-TF+GO+EXP/tokenizer.json {local_dir} --no-sign-request\n",
        "!aws s3 cp s3://czi-rbio/rbio1-TF+GO+EXP/tokenizer_config.json {local_dir} --no-sign-request\n",
        "!aws s3 cp s3://czi-rbio/rbio1-TF+GO+EXP/special_tokens_map.json {local_dir} --no-sign-request"
      ],
      "metadata": {
        "colab": {
          "base_uri": "https://localhost:8080/"
        },
        "id": "OVd6rqP0ffIS",
        "outputId": "572934c7-4905-459f-9f3d-41ba3c627fda"
      },
      "execution_count": 4,
      "outputs": [
        {
          "output_type": "stream",
          "name": "stdout",
          "text": [
            "download: s3://czi-rbio/rbio1-TF+GO+EXP/config.json to rbio_TF_GO_EXP/config.json\n",
            "download: s3://czi-rbio/rbio1-TF+GO+EXP/tokenizer.json to rbio_TF_GO_EXP/tokenizer.json\n",
            "download: s3://czi-rbio/rbio1-TF+GO+EXP/tokenizer_config.json to rbio_TF_GO_EXP/tokenizer_config.json\n",
            "download: s3://czi-rbio/rbio1-TF+GO+EXP/special_tokens_map.json to rbio_TF_GO_EXP/special_tokens_map.json\n"
          ]
        }
      ]
    },
    {
      "cell_type": "markdown",
      "source": [
        "Import libraries"
      ],
      "metadata": {
        "id": "VifHXxKrgwJ-"
      }
    },
    {
      "cell_type": "code",
      "source": [
        "from transformers import AutoModelForCausalLM, AutoTokenizer\n",
        "from transformers.modeling_utils import load_sharded_checkpoint\n",
        "import re\n",
        "import boto3\n",
        "import os\n",
        "import pandas as pd\n",
        "from getpass import getpass\n",
        "import torch\n",
        "import warnings\n",
        "\n",
        "warnings.filterwarnings('ignore')\n",
        "\n",
        "pd.set_option('display.max_colwidth', None)"
      ],
      "metadata": {
        "id": "ObX6_jMjgy3b"
      },
      "execution_count": 5,
      "outputs": []
    },
    {
      "cell_type": "markdown",
      "source": [
        "Define helper functions"
      ],
      "metadata": {
        "id": "gMbNlYfUhF_g"
      }
    },
    {
      "cell_type": "code",
      "source": [
        "def load_model_and_tokenizer(model_name, model_checkpoint_path, device):\n",
        "    \"\"\"Loads the base model and tokenizer, and applies the fine-tuned checkpoint.\"\"\"\n",
        "    # Load the base model from Hugging Face\n",
        "    model = AutoModelForCausalLM.from_pretrained(model_name, torch_dtype=\"auto\")\n",
        "    tokenizer = AutoTokenizer.from_pretrained(model_name)\n",
        "\n",
        "    # Load the fine-tuned weights from the local checkpoint directory\n",
        "    if model_checkpoint_path is not None:\n",
        "        print(f\"Loading fine-tuned weights from {model_checkpoint_path}\")\n",
        "        load_sharded_checkpoint(model, model_checkpoint_path, strict=False)\n",
        "\n",
        "    # Set tokenizer padding for batch processing\n",
        "    tokenizer.padding_side = \"left\"\n",
        "    if tokenizer.pad_token is None:\n",
        "        tokenizer.pad_token = tokenizer.eos_token\n",
        "\n",
        "    model.eval()\n",
        "    model.to(device)\n",
        "    return model, tokenizer\n",
        "\n",
        "\n",
        "def ask_rbio(system_prompt, question, device, model, tokenizer):\n",
        "    \"\"\"Formats the prompt and generates a response from the model.\"\"\"\n",
        "    # Create the chat message format\n",
        "    messages = [\n",
        "        {\"role\": \"system\", \"content\": system_prompt},\n",
        "        {\"role\": \"user\", \"content\": question},\n",
        "    ]\n",
        "\n",
        "    # Apply the chat template\n",
        "    texts = tokenizer.apply_chat_template(\n",
        "        messages, tokenize=False, add_generation_prompt=True\n",
        "    )\n",
        "\n",
        "    # Tokenize the input and move to the appropriate device (CPU/GPU)\n",
        "    model_inputs = tokenizer(texts, return_tensors=\"pt\", padding=True).to(device)\n",
        "\n",
        "    # Generate a response\n",
        "    generated_ids = model.generate(**model_inputs, max_new_tokens=1024, do_sample=False)\n",
        "    generated_ids = [\n",
        "        output_ids[len(input_ids) :]\n",
        "        for input_ids, output_ids in zip(model_inputs.input_ids, generated_ids)\n",
        "    ]\n",
        "\n",
        "    # Decode the response\n",
        "    response = tokenizer.batch_decode(generated_ids, skip_special_tokens=True)[0]\n",
        "\n",
        "    # Print the raw response before parsing for debugging\n",
        "    print(\"Raw model output:\")\n",
        "    print(response)\n",
        "    print(\"-\" * 20) # Separator for clarity\n",
        "\n",
        "\n",
        "    # Parse the structured output using regex\n",
        "    think_process = re.findall(r\"<think>(.*?)</think>\", response, flags=re.DOTALL)\n",
        "    reflection = re.findall(r\"<reflect>(.*?)</reflect>\", response, flags=re.DOTALL)\n",
        "    answer = re.findall(r\"<answer>(.*?)</answer>\", response, flags=re.DOTALL)\n",
        "\n",
        "    # Return a dictionary with the parsed components\n",
        "    parsed_response = {\n",
        "        'think': think_process[0].strip() if think_process else \"\",\n",
        "        'reflection': reflection[0].strip() if reflection else \"\",\n",
        "        'answer': answer[0].strip() if answer else \"\"\n",
        "    }\n",
        "    return parsed_response"
      ],
      "metadata": {
        "id": "Td0goteyhA2p"
      },
      "execution_count": 21,
      "outputs": []
    },
    {
      "cell_type": "markdown",
      "source": [
        "Download and load the model"
      ],
      "metadata": {
        "id": "HENLV-LPhStn"
      }
    },
    {
      "cell_type": "code",
      "source": [
        "!nvidia-smi"
      ],
      "metadata": {
        "colab": {
          "base_uri": "https://localhost:8080/"
        },
        "id": "FZhJdQ91XfFM",
        "outputId": "2ccaf2cc-7dd3-4200-9a28-36d0716c05a2"
      },
      "execution_count": 7,
      "outputs": [
        {
          "output_type": "stream",
          "name": "stdout",
          "text": [
            "Wed Aug 27 21:19:44 2025       \n",
            "+-----------------------------------------------------------------------------------------+\n",
            "| NVIDIA-SMI 550.54.15              Driver Version: 550.54.15      CUDA Version: 12.4     |\n",
            "|-----------------------------------------+------------------------+----------------------+\n",
            "| GPU  Name                 Persistence-M | Bus-Id          Disp.A | Volatile Uncorr. ECC |\n",
            "| Fan  Temp   Perf          Pwr:Usage/Cap |           Memory-Usage | GPU-Util  Compute M. |\n",
            "|                                         |                        |               MIG M. |\n",
            "|=========================================+========================+======================|\n",
            "|   0  Tesla T4                       Off |   00000000:00:04.0 Off |                    0 |\n",
            "| N/A   38C    P8              9W /   70W |       0MiB /  15360MiB |      0%      Default |\n",
            "|                                         |                        |                  N/A |\n",
            "+-----------------------------------------+------------------------+----------------------+\n",
            "                                                                                         \n",
            "+-----------------------------------------------------------------------------------------+\n",
            "| Processes:                                                                              |\n",
            "|  GPU   GI   CI        PID   Type   Process name                              GPU Memory |\n",
            "|        ID   ID                                                               Usage      |\n",
            "|=========================================================================================|\n",
            "|  No running processes found                                                             |\n",
            "+-----------------------------------------------------------------------------------------+\n"
          ]
        }
      ]
    },
    {
      "cell_type": "code",
      "source": [
        "os.listdir('/content/')"
      ],
      "metadata": {
        "colab": {
          "base_uri": "https://localhost:8080/"
        },
        "id": "dYEGXIyLYIZ_",
        "outputId": "0ac6c2f3-ec2c-4d52-ba7f-a9d1eaa59c23"
      },
      "execution_count": 8,
      "outputs": [
        {
          "output_type": "execute_result",
          "data": {
            "text/plain": [
              "['.config', 'rbio_TF_GO_EXP', 'sample_data']"
            ]
          },
          "metadata": {},
          "execution_count": 8
        }
      ]
    },
    {
      "cell_type": "code",
      "source": [
        "os.listdir('/content/rbio_TF_GO_EXP')"
      ],
      "metadata": {
        "colab": {
          "base_uri": "https://localhost:8080/"
        },
        "id": "S9EtXiZVYaQG",
        "outputId": "fe6899ba-bba1-4c5e-f082-1be5015dd83f"
      },
      "execution_count": 9,
      "outputs": [
        {
          "output_type": "execute_result",
          "data": {
            "text/plain": [
              "['config.json',\n",
              " 'tokenizer.json',\n",
              " 'model-00002-of-00002.safetensors',\n",
              " 'model-00001-of-00002.safetensors',\n",
              " 'tokenizer_config.json',\n",
              " 'model.safetensors.index.json',\n",
              " 'special_tokens_map.json']"
            ]
          },
          "metadata": {},
          "execution_count": 9
        }
      ]
    },
    {
      "cell_type": "code",
      "source": [
        "# S3 bucket and model details\n",
        "model_name = 'Qwen/Qwen2.5-3B-Instruct' # Base model from Hugging Face\n",
        "model_checkpoint = 'rbio_TF_GO_EXP' # Fine-tuned checkpoint\n",
        "local_dir = f'/content/{model_checkpoint}/' # Corrected local directory path\n",
        "\n",
        "# Set device to GPU if available, otherwise CPU\n",
        "device = 'cuda' if torch.cuda.is_available() else 'cpu'\n",
        "print(f\"Using device: {device}\")\n",
        "\n",
        "# Load the model and tokenizer\n",
        "model, tokenizer = load_model_and_tokenizer(model_name, local_dir, device)"
      ],
      "metadata": {
        "colab": {
          "base_uri": "https://localhost:8080/",
          "height": 101,
          "referenced_widgets": [
            "45b5ea3fe13d41baadd1bd21645fe201",
            "e0edb13d62824d308856c002760d7207",
            "9a65a7d08f2947cfbfa3bdace3f066a3",
            "cb9d68aa2bed4d709d4c06b2ea2dc173",
            "c08ba7b668a7430db48673cddc7d2b5a",
            "46e07840b678414eba649a82eff7f1e3",
            "c4b66e502b684aa19c1aba5fd722c7fe",
            "06fef247bdfc4723b47543f54e3f1079",
            "75e81060372a4cb1830a66179d2a3760",
            "5b6edf3ba57b437da9d77b34b725705f",
            "70218ee17b924f26a489cdba0d8fa5d1"
          ]
        },
        "id": "f_LA66DVhVFG",
        "outputId": "948aee89-a684-4dcd-a862-bccf8e90261b"
      },
      "execution_count": 10,
      "outputs": [
        {
          "output_type": "stream",
          "name": "stdout",
          "text": [
            "Using device: cuda\n"
          ]
        },
        {
          "output_type": "display_data",
          "data": {
            "text/plain": [
              "Loading checkpoint shards:   0%|          | 0/2 [00:00<?, ?it/s]"
            ],
            "application/vnd.jupyter.widget-view+json": {
              "version_major": 2,
              "version_minor": 0,
              "model_id": "45b5ea3fe13d41baadd1bd21645fe201"
            }
          },
          "metadata": {}
        },
        {
          "output_type": "stream",
          "name": "stderr",
          "text": [
            "Special tokens have been added in the vocabulary, make sure the associated word embeddings are fine-tuned or trained.\n"
          ]
        },
        {
          "output_type": "stream",
          "name": "stdout",
          "text": [
            "Loading fine-tuned weights from /content/rbio_TF_GO_EXP/\n"
          ]
        }
      ]
    },
    {
      "cell_type": "code",
      "source": [
        "print(model)"
      ],
      "metadata": {
        "colab": {
          "base_uri": "https://localhost:8080/"
        },
        "id": "iCPiw9YOdb--",
        "outputId": "1258755c-b656-4137-cc3b-a10f2ea38b2e"
      },
      "execution_count": 22,
      "outputs": [
        {
          "output_type": "stream",
          "name": "stdout",
          "text": [
            "Qwen2ForCausalLM(\n",
            "  (model): Qwen2Model(\n",
            "    (embed_tokens): Embedding(151936, 2048)\n",
            "    (layers): ModuleList(\n",
            "      (0-35): 36 x Qwen2DecoderLayer(\n",
            "        (self_attn): Qwen2SdpaAttention(\n",
            "          (q_proj): Linear(in_features=2048, out_features=2048, bias=True)\n",
            "          (k_proj): Linear(in_features=2048, out_features=256, bias=True)\n",
            "          (v_proj): Linear(in_features=2048, out_features=256, bias=True)\n",
            "          (o_proj): Linear(in_features=2048, out_features=2048, bias=False)\n",
            "          (rotary_emb): Qwen2RotaryEmbedding()\n",
            "        )\n",
            "        (mlp): Qwen2MLP(\n",
            "          (gate_proj): Linear(in_features=2048, out_features=11008, bias=False)\n",
            "          (up_proj): Linear(in_features=2048, out_features=11008, bias=False)\n",
            "          (down_proj): Linear(in_features=11008, out_features=2048, bias=False)\n",
            "          (act_fn): SiLU()\n",
            "        )\n",
            "        (input_layernorm): Qwen2RMSNorm()\n",
            "        (post_attention_layernorm): Qwen2RMSNorm()\n",
            "      )\n",
            "    )\n",
            "    (norm): Qwen2RMSNorm()\n",
            "  )\n",
            "  (lm_head): Linear(in_features=2048, out_features=151936, bias=False)\n",
            ")\n"
          ]
        }
      ]
    },
    {
      "cell_type": "code",
      "source": [
        "system_prompt=( \"A conversation between a User and a Biologist. The user asks a question, \"\n",
        "                  \"and the Biologist solves it. The biologist first thinks about the reasoning process in the mind and \"\n",
        "                  \"then provides the user with the answer. The reasoning process and answer are enclosed within \"\n",
        "                  \"<think> </think> and <answer> </answer> tags, respectively, i.e., <think> reasoning process here </think> <answer> answer here </answer>. \"\n",
        "                  \"The Biologist will evaluate each step of this problem, using logical reasoning and evidence from the prompt.\")\n",
        "question=\"Can you describe the roles of the V-type ATPase and proteins encoded by genes CHMP6, GGPS1, and RAB7A? Let's call these the Set1 proteins. Also describe the roles of the conserved oligomeric Golgi complex, the TRAPP complex, and the proteins encoded by genes CMAS, SEC22B, ST3GAL4, SYS1, WRB, YKT6, MGAT1, and SLC35A1. Let's call these Set2 proteins. Is there any reason why knockout of any protein in Set1 might have anticorrelated effects in the Golgi compared to knockout of any protein in Set2?\""
      ],
      "metadata": {
        "id": "lcZfEtNpk4zr"
      },
      "execution_count": 26,
      "outputs": []
    },
    {
      "cell_type": "code",
      "source": [
        "\n",
        "response = ask_rbio(system_prompt, question, device, model, tokenizer)\n",
        "print(\"Think Process:\")\n",
        "print(response['think'])\n",
        "print(\"\\nReflection:\")\n",
        "print(response['reflection'])\n",
        "print(\"\\nAnswer:\")\n",
        "print(response['answer'])"
      ],
      "metadata": {
        "colab": {
          "base_uri": "https://localhost:8080/"
        },
        "id": "ulSZj_vFlEXr",
        "outputId": "94a8eca8-4c91-4e10-d685-2fe14cc48cec"
      },
      "execution_count": 27,
      "outputs": [
        {
          "output_type": "stream",
          "name": "stdout",
          "text": [
            "Raw model output:\n",
            "<think> Knockout of any protein in Set1 (V-type ATPase and proteins encoded by genes CHMP6, GGPS1, and RAB7A) would likely affect the function of the Golgi apparatus. The V-type ATPase is a proton pump that is essential for maintaining the pH gradient across the Golgi membrane. CHMP6 is involved in the formation of multivesicular bodies, which can affect the transport vesicles. GGPS1 is involved in the synthesis of glycerophospholipids, which are important for the structure and function of the Golgi membrane. RAB7A is a small GTPase that regulates vesicle trafficking, and its absence could lead to defects in the Golgi. On the other hand, knockout of any protein in Set2 (conserved oligomeric Golgi complex, TRAPP complex, and proteins encoded by genes CMAS, SEC22B, ST3GAL4, SYS1, WRB, YKT6, MGAT1, and SLC35A1) would also affect the function of the Golgi apparatus. The conserved oligomeric Golgi complex is a set of proteins that form a scaffold for the Golgi apparatus, while the TRAPP complex is a protein complex that regulates vesicle transport. The proteins encoded by genes CMAS, SEC22B, ST3GAL4, SYS1, WRB, YKT6, MGAT1, and SLC35A1 are involved in various aspects of Golgi function. Knocking out any of these proteins could lead to defects in the Golgi. </think> <answer> There is no reason why knockout of any protein in Set1 might have anticorrelated effects in the Golgi compared to knockout of any protein in Set2. Both sets of proteins are involved in the function of the Golgi apparatus, but they do not have a direct relationship that would cause anticorrelated effects. </answer>\n",
            "--------------------\n",
            "Think Process:\n",
            "Knockout of any protein in Set1 (V-type ATPase and proteins encoded by genes CHMP6, GGPS1, and RAB7A) would likely affect the function of the Golgi apparatus. The V-type ATPase is a proton pump that is essential for maintaining the pH gradient across the Golgi membrane. CHMP6 is involved in the formation of multivesicular bodies, which can affect the transport vesicles. GGPS1 is involved in the synthesis of glycerophospholipids, which are important for the structure and function of the Golgi membrane. RAB7A is a small GTPase that regulates vesicle trafficking, and its absence could lead to defects in the Golgi. On the other hand, knockout of any protein in Set2 (conserved oligomeric Golgi complex, TRAPP complex, and proteins encoded by genes CMAS, SEC22B, ST3GAL4, SYS1, WRB, YKT6, MGAT1, and SLC35A1) would also affect the function of the Golgi apparatus. The conserved oligomeric Golgi complex is a set of proteins that form a scaffold for the Golgi apparatus, while the TRAPP complex is a protein complex that regulates vesicle transport. The proteins encoded by genes CMAS, SEC22B, ST3GAL4, SYS1, WRB, YKT6, MGAT1, and SLC35A1 are involved in various aspects of Golgi function. Knocking out any of these proteins could lead to defects in the Golgi.\n",
            "\n",
            "Reflection:\n",
            "\n",
            "\n",
            "Answer:\n",
            "There is no reason why knockout of any protein in Set1 might have anticorrelated effects in the Golgi compared to knockout of any protein in Set2. Both sets of proteins are involved in the function of the Golgi apparatus, but they do not have a direct relationship that would cause anticorrelated effects.\n"
          ]
        }
      ]
    },
    {
      "cell_type": "code",
      "source": [
        "question2 = \"Is there any reason why knockout of gene CHMP6 could have anticorrelated morphological effects in the Golgi compared to knockout of gene SLC35A1\"\n",
        "\n",
        "response2 = ask_rbio(system_prompt, question2, device, model, tokenizer)\n",
        "print(\"Think Process:\")\n",
        "print(response2['think'])\n",
        "print(\"\\nReflection:\")\n",
        "print(response2['reflection'])\n",
        "print(\"\\nAnswer:\")\n",
        "print(response2['answer'])"
      ],
      "metadata": {
        "colab": {
          "base_uri": "https://localhost:8080/"
        },
        "id": "cc8pDQPqbM1l",
        "outputId": "1988214b-a992-4d33-8026-ab297302ca4a"
      },
      "execution_count": 28,
      "outputs": [
        {
          "output_type": "stream",
          "name": "stdout",
          "text": [
            "Raw model output:\n",
            "<think> Knockout of gene CHMP6 would likely lead to changes in the Golgi apparatus due to its role in membrane trafficking. SLC35A1 is involved in vesicle transport, which also affects the Golgi. However, the specific effects on the Golgi morphology might differ depending on the exact functions of these genes. Anticorrelated effects mean that the knockout of one gene results in opposite morphological changes compared to the other gene. </think> <answer> No, there is no inherent reason why the knockout of gene CHMP6 would have anticorrelated morphological effects in the Golgi compared to the knockout of gene SLC35A1. Both genes are involved in vesicle transport and membrane trafficking, but their specific roles and interactions with the Golgi apparatus might not result in opposite morphological changes. </answer>\n",
            "--------------------\n",
            "Think Process:\n",
            "Knockout of gene CHMP6 would likely lead to changes in the Golgi apparatus due to its role in membrane trafficking. SLC35A1 is involved in vesicle transport, which also affects the Golgi. However, the specific effects on the Golgi morphology might differ depending on the exact functions of these genes. Anticorrelated effects mean that the knockout of one gene results in opposite morphological changes compared to the other gene.\n",
            "\n",
            "Reflection:\n",
            "\n",
            "\n",
            "Answer:\n",
            "No, there is no inherent reason why the knockout of gene CHMP6 would have anticorrelated morphological effects in the Golgi compared to the knockout of gene SLC35A1. Both genes are involved in vesicle transport and membrane trafficking, but their specific roles and interactions with the Golgi apparatus might not result in opposite morphological changes.\n"
          ]
        }
      ]
    },
    {
      "cell_type": "code",
      "source": [
        "print(response2)"
      ],
      "metadata": {
        "colab": {
          "base_uri": "https://localhost:8080/"
        },
        "id": "EV7OAoTGcb-s",
        "outputId": "cfdb7f3f-ea1b-48df-ffe4-f5ef99937115"
      },
      "execution_count": 17,
      "outputs": [
        {
          "output_type": "stream",
          "name": "stdout",
          "text": [
            "{'think': '', 'reflection': '', 'answer': ''}\n"
          ]
        }
      ]
    },
    {
      "cell_type": "code",
      "source": [
        "question3 = \"What is the role of gene CHMP6?\"\n",
        "\n",
        "response3 = ask_rbio(system_prompt, question3, device, model, tokenizer)\n",
        "print(\"Think Process:\")\n",
        "print(response3['think'])\n",
        "print(\"\\nReflection:\")\n",
        "print(response3['reflection'])\n",
        "print(\"\\nAnswer:\")\n",
        "print(response3['answer'])"
      ],
      "metadata": {
        "colab": {
          "base_uri": "https://localhost:8080/"
        },
        "id": "IL7bWOpMc2rV",
        "outputId": "987a829c-fc1d-44c6-89c8-7a676d263719"
      },
      "execution_count": 25,
      "outputs": [
        {
          "output_type": "stream",
          "name": "stdout",
          "text": [
            "Raw model output:\n",
            "Gene CHMP6, also known as Charge-Associated Membrane Protein 6, plays a significant role in cellular processes, particularly in the regulation of intracellular trafficking and vesicle formation. Here are some key points about its function:\n",
            "\n",
            "1. **Vesicle Formation**: CHMP6 is involved in the formation of multivesicular bodies (MVBs), which are membrane-bound structures that contain both endosomal and lysosomal components. MVBs are crucial for the degradation of proteins and lipids that have reached their functional limits within the cell.\n",
            "\n",
            "2. **Endosomal Sorting**: It is part of the ESCRT (Endosomal Sorting Complex Required for Transport) machinery, which is essential for sorting cargo proteins destined for degradation or recycling. This process involves the recognition of specific signals on the cargo proteins and the formation of vesicles to transport them to their final destinations.\n",
            "\n",
            "3. **Regulation of Intracellular Trafficking**: CHMP6 helps regulate the trafficking of various cargoes within the cell, ensuring that they are transported to the correct compartments. This regulation is critical for maintaining cellular homeostasis and proper functioning.\n",
            "\n",
            "4. **Role in Disease**: Mutations in the CHMP6 gene have been associated with certain diseases, including neurodegenerative disorders. Understanding its role can provide insights into these conditions and potentially lead to new therapeutic strategies.\n",
            "\n",
            "5. **Cellular Localization**: CHMP6 is primarily localized to the endoplasmic reticulum (ER) and Golgi apparatus, where it participates in the early stages of vesicle formation before moving to other cellular compartments.\n",
            "\n",
            "In summary, CHMP6 is a crucial component of the cellular machinery responsible for vesicle formation and trafficking, playing a vital role in the degradation and recycling of cellular components.\n",
            "--------------------\n",
            "Think Process:\n",
            "\n",
            "\n",
            "Reflection:\n",
            "\n",
            "\n",
            "Answer:\n",
            "\n"
          ]
        }
      ]
    },
    {
      "cell_type": "code",
      "source": [],
      "metadata": {
        "id": "zePJrTIxj720"
      },
      "execution_count": null,
      "outputs": []
    }
  ]
}